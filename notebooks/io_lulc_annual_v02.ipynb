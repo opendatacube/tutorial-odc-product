{
 "cells": [
  {
   "cell_type": "code",
   "execution_count": null,
   "metadata": {},
   "outputs": [],
   "source": [
    "# Common imports and settings\n",
    "import os\n",
    "from IPython.display import Markdown\n",
    "import pandas as pd\n",
    "import xarray as xr\n",
    "import hvplot.xarray\n",
    "import cartopy.crs as ccrs\n",
    "\n",
    "# Datacube\n",
    "import datacube\n",
    "from datacube.utils import masking\n",
    "# https://github.com/GeoscienceAustralia/dea-notebooks/tree/develop/Tools\n",
    "from dea_tools.plotting import display_map\n",
    "\n",
    "os.environ['USE_PYGEOS'] = '0'\n",
    "pd.set_option(\"display.max_rows\", None)\n"
   ]
  },
  {
   "cell_type": "code",
   "execution_count": null,
   "metadata": {},
   "outputs": [],
   "source": [
    "dc = datacube.Datacube()"
   ]
  },
  {
   "cell_type": "code",
   "execution_count": null,
   "metadata": {},
   "outputs": [],
   "source": [
    "display(Markdown(f'# Products list:'))\n",
    "\n",
    "products = dc.list_products()  # Pandas DataFrame\n",
    "products"
   ]
  },
  {
   "cell_type": "code",
   "execution_count": null,
   "metadata": {},
   "outputs": [],
   "source": [
    "measurements = dc.list_measurements()  # Pandas DataFrame, all products\n",
    "measurements"
   ]
  },
  {
   "cell_type": "code",
   "execution_count": null,
   "metadata": {},
   "outputs": [],
   "source": [
    "# latitude = (-1.9997527,1)\n",
    "# longitude = (-92.029, -88.9707667)\n",
    "latitude = (-0.75,-0.5)\n",
    "longitude = (-90.529, -90.25)\n",
    "\n",
    "display_map(longitude, latitude)"
   ]
  },
  {
   "cell_type": "code",
   "execution_count": null,
   "metadata": {},
   "outputs": [],
   "source": [
    "# A standard datacube.load() call.\n",
    "# This may take a few minutes while the data are loaded into JupyterLab (so choose a small area and time range).\n",
    "\n",
    "data = dc.load(\n",
    "    product = \"io_lulc_annual_v02\",\n",
    "    latitude = latitude,\n",
    "    longitude = longitude,\n",
    "    time = (\"2017-01-01\", \"2017-12-31\"),\n",
    "    group_by = 'solar_day',                    # Group by day method\n",
    "    output_crs = 'EPSG:32715',                  # Output CRS\n",
    "    resolution = (10, -10),                     # Resolution\n",
    ")\n",
    "\n",
    "display(data)\n",
    "\n",
    "display(f'Number of MiB: {data.nbytes/2**20}')\n"
   ]
  },
  {
   "cell_type": "code",
   "execution_count": null,
   "metadata": {},
   "outputs": [],
   "source": [
    "# Mask by nodata\n",
    "\n",
    "# Under the hood: data != data.nodata -> bool\n",
    "# Applies to each variable in an xarray.Dataset (including any bit-masks)\n",
    "valid_mask = masking.valid_data_mask(data.land_cover_class)"
   ]
  },
  {
   "cell_type": "code",
   "execution_count": null,
   "metadata": {},
   "outputs": [],
   "source": [
    "\n",
    "# Use numpy.where() to apply a mask array to measurement arrays\n",
    "valid_data = data.where(valid_mask)  # Default: Where False replace with NaN -> convert dtype to float64"
   ]
  },
  {
   "cell_type": "code",
   "execution_count": null,
   "metadata": {},
   "outputs": [],
   "source": [
    "band = \"land_cover_class\"\n",
    "# Plot the data on a basemap\n",
    "valid_data[band].isel(time=0).hvplot.image(\"x\",\"y\",\n",
    "  geo=True,\n",
    "  crs=ccrs.epsg(valid_data.attrs['crs'].split(':')[-1]),\n",
    "  tiles='OSM',\n",
    "  frame_width=700,\n",
    "  frame_height=500,\n",
    "  title=f'{band} Data on Basemap',\n",
    "  cmap='tab20',\n",
    ")"
   ]
  },
  {
   "cell_type": "code",
   "execution_count": null,
   "metadata": {},
   "outputs": [],
   "source": []
  }
 ],
 "metadata": {
  "kernelspec": {
   "display_name": "env",
   "language": "python",
   "name": "python3"
  },
  "language_info": {
   "codemirror_mode": {
    "name": "ipython",
    "version": 3
   },
   "file_extension": ".py",
   "mimetype": "text/x-python",
   "name": "python",
   "nbconvert_exporter": "python",
   "pygments_lexer": "ipython3",
   "version": "3.12.3"
  }
 },
 "nbformat": 4,
 "nbformat_minor": 4
}
